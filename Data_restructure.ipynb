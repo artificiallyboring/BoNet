{
 "cells": [
  {
   "cell_type": "code",
   "execution_count": null,
   "metadata": {},
   "outputs": [],
   "source": [
    "import os\n",
    "import shutil\n",
    "import pandas as pd\n",
    "lst_files = []\n",
    "for dir_name,sub_dir_list, file_list in os.walk('MURA-v1.1/valid/XR_WRIST/'):\n",
    "    for file_name in file_list:\n",
    "        if \".png\" in file_name.lower():\n",
    "            lst_files.append(os.path.join(dir_name, file_name))"
   ]
  },
  {
   "cell_type": "code",
   "execution_count": null,
   "metadata": {},
   "outputs": [],
   "source": [
    "for i in range (len(lst_files)):\n",
    "    a, b, c = lst_files[i].split('\\\\')[0], lst_files[i].split('\\\\')[1], lst_files[i].split('\\\\')[2]\n",
    "    lst_files[i] = a + '/' + b + '/' + c\n",
    "    id, bin, img = lst_files[i].split('/')[-3], lst_files[i].split('/')[-2], lst_files[i].split('/')[-1]\n",
    "    src = lst_files[i]\n",
    "    dest = 'C:/Users/cloud/Desktop/MURA-v1.1/valid/WRIST/'\n",
    "    #os.chdir(dest)\n",
    "    stt=id+\"_\"+bin+\"_\"+img\n",
    "    shutil.copy(src,dest)\n",
    "    shutil.move(dest+c,dest+stt)\n",
    "    #os.rename(img, stt)"
   ]
  },
  {
   "cell_type": "code",
   "execution_count": null,
   "metadata": {},
   "outputs": [],
   "source": [
    "def labels(dir_name):\n",
    "    label = 1 if dir_name.find(\"negative\")==-1 else 0\n",
    "    return label"
   ]
  },
  {
   "cell_type": "code",
   "execution_count": null,
   "metadata": {},
   "outputs": [],
   "source": []
  }
 ],
 "metadata": {
  "kernelspec": {
   "display_name": "Python 3",
   "language": "python",
   "name": "python3"
  },
  "language_info": {
   "codemirror_mode": {
    "name": "ipython",
    "version": 3
   },
   "file_extension": ".py",
   "mimetype": "text/x-python",
   "name": "python",
   "nbconvert_exporter": "python",
   "pygments_lexer": "ipython3",
   "version": "3.6.4"
  }
 },
 "nbformat": 4,
 "nbformat_minor": 2
}
